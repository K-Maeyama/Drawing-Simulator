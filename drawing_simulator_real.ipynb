{
 "cells": [
  {
   "cell_type": "code",
   "execution_count": 1,
   "metadata": {},
   "outputs": [],
   "source": [
    "import os\n",
    "import sys\n",
    "import matplotlib.pyplot as plt\n",
    "import numpy as np\n",
    "from pathlib import Path\n",
    "\n",
    "sys.path.append(Path().resolve())\n",
    "sys.path.append(os.path.join(Path().resolve(), 'DigiLeTs/scripts'))"
   ]
  },
  {
   "cell_type": "code",
   "execution_count": 2,
   "metadata": {},
   "outputs": [],
   "source": [
    "from data import read_original_data"
   ]
  },
  {
   "cell_type": "code",
   "execution_count": 3,
   "metadata": {},
   "outputs": [],
   "source": [
    "from env import DrawingEnv_Moc1"
   ]
  },
  {
   "cell_type": "code",
   "execution_count": 4,
   "metadata": {},
   "outputs": [],
   "source": [
    "def fill_traj(target_position, initial_position, norm, z_pos=0):\n",
    "    positions = [initial_position]\n",
    "    d_pos = target_position[:2] - positions[-1][:2]\n",
    "    while np.linalg.norm(d_pos) > norm:\n",
    "        pos = positions[-1][:2] + (d_pos / np.linalg.norm(d_pos) * norm)\n",
    "        positions.append(np.hstack([pos, z_pos]))\n",
    "        d_pos = target_position[:2] - positions[-1][:2]\n",
    "    return positions\n",
    "\n",
    "def get_trajectory(instance, initial_position):\n",
    "    # initial_position = np.array([0.8, 0.2, 0])\n",
    "    norm = np.linalg.norm(instance[1:,:2]-instance[:-1,:2], axis=-1)\n",
    "    norm_mean = norm[norm>0].mean()\n",
    "    trajectory = fill_traj(target_position=instance[0], initial_position=initial_position, norm=norm_mean)\n",
    "    \n",
    "    for i in range(0, len(instance) - 1):\n",
    "        if (instance[i][5] == 0 and instance[i+1][5] == 0) and (instance[i+1][3] == 0):\n",
    "            position = [np.array((instance[i+1][0], instance[i+1][1], 1))]\n",
    "        else:\n",
    "            position = fill_traj(target_position=instance[i+1], initial_position=trajectory[-1], norm=norm_mean)\n",
    "        trajectory += position\n",
    "\n",
    "    trajectory += fill_traj(target_position=initial_position, initial_position=trajectory[-1], norm=norm_mean)\n",
    "    trajectory = np.array(trajectory)\n",
    "    return trajectory"
   ]
  },
  {
   "cell_type": "code",
   "execution_count": 5,
   "metadata": {},
   "outputs": [],
   "source": [
    "import cv2\n",
    "import copy\n",
    "\n",
    "def get_image_sequence(instance, size=256, line_width=3, threshold=None):\n",
    "    initial_position=np.array((0.8, 0.8, 0))\n",
    "    params = dict(size=256,\n",
    "                line_color=(50,50,50),\n",
    "                line_width=3,\n",
    "                digit_area = [30,36,158,164],\n",
    "                initial_position=initial_position,\n",
    "                max_step=2e2,\n",
    "                )\n",
    "    instance[:,1] = 1-instance[:,1]\n",
    "    trajectory = get_trajectory(instance=instance, initial_position=initial_position)\n",
    "    \n",
    "    \n",
    "    env = DrawingEnv_Moc1(params)\n",
    "    observation = env.init()\n",
    "    images = [observation[\"image\"]]\n",
    "    mask = [observation[\"mask\"]]\n",
    "    actions = []\n",
    "    positions = [observation[\"position\"]]\n",
    "    for t in range(0, len(trajectory) - 1):\n",
    "        observation, reward, done, info = env.step(trajectory[t])\n",
    "        images.append(observation[\"image\"])\n",
    "        positions.append(observation[\"position\"])\n",
    "        mask.append(observation[\"mask\"])\n",
    "        action = trajectory[t+1][:2]-trajectory[t][:2]\n",
    "        actions.append(action)\n",
    "\n",
    "    images = np.array(images).astype(np.uint8)\n",
    "    mask = np.array(mask).astype(np.uint8)\n",
    "    positions = np.array(positions)\n",
    "    observations = dict(image=images,mask=mask,position=positions)\n",
    "    actions = np.array(actions)\n",
    "    rewards = np.zeros(len(actions))\n",
    "    dones = np.zeros(len(actions))\n",
    "    dones[-1] = 1\n",
    "    return observations, actions, rewards, dones\n"
   ]
  },
  {
   "cell_type": "code",
   "execution_count": null,
   "metadata": {},
   "outputs": [],
   "source": []
  },
  {
   "cell_type": "code",
   "execution_count": 6,
   "metadata": {},
   "outputs": [],
   "source": [
    "import glob\n",
    "data_dir = \"DigiLeTs/data/preprocessed/complete\"\n",
    "filenames = glob.glob(os.path.join(data_dir, '*_preprocessed'))"
   ]
  },
  {
   "cell_type": "code",
   "execution_count": 7,
   "metadata": {},
   "outputs": [
    {
     "name": "stdout",
     "output_type": "stream",
     "text": [
      "Reading from: DigiLeTs/data/preprocessed/complete/002-f-22-right_2019-06-05-12-21-29_preprocessed\n"
     ]
    }
   ],
   "source": [
    "import os\n",
    "for idx in range(len(filenames)):\n",
    "    filename = filenames[idx]\n",
    "    basename = os.path.basename(filename)\n",
    "    participant = read_original_data(filename)\n",
    "    if idx < 70:\n",
    "        save_folder = \"dataset/Drawing/realistic/train\"\n",
    "    else:\n",
    "        save_folder = \"dataset/Drawing/realistic/validation\"\n",
    "    for s, symbol in enumerate(participant[\"trajectories\"]):\n",
    "        if s > 9:\n",
    "            # 数字以外は省略\n",
    "            break\n",
    "        for i, _instance in enumerate(symbol):\n",
    "            \n",
    "            instance = _instance[:participant[\"lengths\"][s, i]]\n",
    "            observations, actions, rewards, dones = get_image_sequence(instance, size=64, line_width=3)\n",
    "            dataset = dict()\n",
    "            dataset[\"image\"] = observations[\"image\"]\n",
    "            dataset[\"mask\"] = observations[\"mask\"]\n",
    "            dataset[\"position\"] = observations[\"position\"]\n",
    "            dataset[\"action\"] = actions\n",
    "            dataset[\"reward\"] = rewards\n",
    "            dataset[\"done\"] = dones\n",
    "            \n",
    "        break\n",
    "    break\n",
    "            # save_foldername = \"{}/{}\".format(save_folder, s)\n",
    "            # save_filename = \"{}/{}_{}.npy\".format(save_foldername, basename, i)\n",
    "            # # print(save_filename)\n",
    "            # os.makedirs(save_foldername, exist_ok=True)\n",
    "            # np.save(save_filename, dataset)"
   ]
  },
  {
   "cell_type": "code",
   "execution_count": 8,
   "metadata": {},
   "outputs": [
    {
     "ename": "ModuleNotFoundError",
     "evalue": "No module named 'utils'",
     "output_type": "error",
     "traceback": [
      "\u001b[0;31m---------------------------------------------------------------------------\u001b[0m",
      "\u001b[0;31mModuleNotFoundError\u001b[0m                       Traceback (most recent call last)",
      "Cell \u001b[0;32mIn [8], line 2\u001b[0m\n\u001b[1;32m      1\u001b[0m \u001b[39mimport\u001b[39;00m \u001b[39mcv2\u001b[39;00m\n\u001b[0;32m----> 2\u001b[0m \u001b[39mfrom\u001b[39;00m \u001b[39mutils\u001b[39;00m\u001b[39m.\u001b[39;00m\u001b[39mevaluation\u001b[39;00m\u001b[39m.\u001b[39;00m\u001b[39mvisualize_utils\u001b[39;00m \u001b[39mimport\u001b[39;00m reverse_image_observation\n\u001b[1;32m      3\u001b[0m \u001b[39mfrom\u001b[39;00m \u001b[39mIPython\u001b[39;00m \u001b[39mimport\u001b[39;00m display\n\u001b[1;32m      4\u001b[0m \u001b[39mimport\u001b[39;00m \u001b[39mmpl_toolkits\u001b[39;00m\n",
      "\u001b[0;31mModuleNotFoundError\u001b[0m: No module named 'utils'"
     ]
    }
   ],
   "source": [
    "import cv2\n",
    "from utils.evaluation.visualize_utils import reverse_image_observation\n",
    "from IPython import display\n",
    "import mpl_toolkits\n",
    "\n",
    "h_graph = 1\n",
    "w_graph = 2\n",
    "fig = plt.figure(figsize=(w_graph*5,h_graph*5))\n",
    "ax1 = fig.add_subplot(h_graph, w_graph, 1)\n",
    "ax2 = fig.add_subplot(h_graph, w_graph, 2)\n",
    "\n",
    "n_frame = len(recon[image_name_horizon][\"loc\"])\n",
    "\n",
    "ax1.axis(\"off\")\n",
    "ax2.axis(\"off\")\n",
    "\n",
    "colors = [\"tab:blue\", \"tab:orange\", \"tab:green\", \"tab:red\", \"tab:purple\", \"tab:brown\", \"tab:pink\", \"tab:gray\", \"tab:olive\", \"tab:cyan\"]\n",
    "\n",
    "dt = 1\n",
    "artists = []\n",
    "for t in range(0, n_frame, dt):\n",
    "    im = observations[image_name_horizon][t, 0][[2,1,0]].detach().cpu().numpy()\n",
    "    im = reverse_image_observation(im)\n",
    "    im = cv2.resize(im, size, interpolation=cv2.INTER_LINEAR)\n",
    "    im1 = ax1.imshow(im)\n",
    "    ax1.set_title(\"Observation\")\n",
    "    \n",
    "    im = recon[image_name_horizon][\"loc\"][t, 0][[2,1,0]].detach().cpu().numpy()\n",
    "    im = reverse_image_observation(im)\n",
    "    im = cv2.resize(im, size, interpolation=cv2.INTER_LINEAR)\n",
    "    im2 = ax2.imshow(im)\n",
    "    ax2.set_title(\"Reconstruction\")\n",
    "    \n",
    "    im = observations[\"sound\"][t, 0].detach().cpu().numpy()\n",
    "    # im = image_postprocess(im)\n",
    "    im = cv2.resize(im, size, interpolation=cv2.INTER_LINEAR)\n",
    "    im3 = ax3.imshow(im)\n",
    "    ax3.set_title(\"Observation\")\n",
    "    \n",
    "    im = recon[\"sound\"][\"loc\"][t, 0].detach().cpu().numpy()\n",
    "    # im = image_postprocess(im)\n",
    "    im = cv2.resize(im, size, interpolation=cv2.INTER_LINEAR)\n",
    "    im4 = ax4.imshow(im)\n",
    "    ax4.set_title(\"Reconstruction\")\n",
    "    \n",
    "    \n",
    "    artists.append([im1,im2,im3,im4])\n",
    "\n",
    "# 4. アニメーション化\n",
    "anim = ArtistAnimation(fig, tqdm(artists), interval=100*dt)\n",
    "\n",
    "if use_validation_data:\n",
    "    folder_name = \"figs/validation\"\n",
    "else:\n",
    "    folder_name = \"figs/train\"\n",
    "\n",
    "os.makedirs(folder_name, exist_ok=True)\n",
    "save_file_name = \"{}/reconstruction_ep{}.mp4\".format(folder_name, epi_idx)\n",
    "anim.save(save_file_name, writer='ffmpeg')\n",
    "plt.show()\n",
    "\n",
    "print(\"fin\")"
   ]
  }
 ],
 "metadata": {
  "kernelspec": {
   "display_name": "Python 3.8.0 64-bit ('3.8.0')",
   "language": "python",
   "name": "python3"
  },
  "language_info": {
   "codemirror_mode": {
    "name": "ipython",
    "version": 3
   },
   "file_extension": ".py",
   "mimetype": "text/x-python",
   "name": "python",
   "nbconvert_exporter": "python",
   "pygments_lexer": "ipython3",
   "version": "3.8.0"
  },
  "orig_nbformat": 4,
  "vscode": {
   "interpreter": {
    "hash": "f50c9da5724cd01c04a3aca0f3896e3851b73cd94c2c5c49a537cab63627c5d4"
   }
  }
 },
 "nbformat": 4,
 "nbformat_minor": 2
}
