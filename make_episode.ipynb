{
 "cells": [
  {
   "cell_type": "code",
   "execution_count": 1,
   "id": "18b831ef-de2b-4738-920a-4183e62a92cf",
   "metadata": {},
   "outputs": [],
   "source": [
    "import os\n",
    "import sys\n",
    "import matplotlib.pyplot as plt\n",
    "import numpy as np\n",
    "from pathlib import Path\n",
    "\n",
    "# sys.path.append(Path().resolve().parent)\n",
    "# sys.path.append(Path().resolve())\n",
    "sys.path.append(os.path.join(Path().resolve(), 'DigiLeTs/scripts'))"
   ]
  },
  {
   "cell_type": "code",
   "execution_count": 2,
   "id": "72a6c5f2-d057-4b1a-9474-5282483eb9bc",
   "metadata": {},
   "outputs": [],
   "source": [
    "from data import read_original_data"
   ]
  },
  {
   "cell_type": "code",
   "execution_count": 8,
   "id": "bba730b0-1ade-4f08-bf70-c36f6ac6a0f4",
   "metadata": {},
   "outputs": [],
   "source": [
    "import cv2\n",
    "import copy\n",
    "\n",
    "def get_image_sequence(instance, size=256, line_width=3):\n",
    "    \n",
    "    img = np.zeros((size,size,1))\n",
    "    \n",
    "    images = []\n",
    "    actions = []\n",
    "    for i in range(len(instance) - 1):\n",
    "        if instance[i][5] == 0 and instance[i+1][5] == 0:\n",
    "            if instance[i+1][3] == 0:\n",
    "                img = cv2.line(img=img,\n",
    "                               pt1=(int(instance[i][0]*size),int((1-instance[i][1])*size)),\n",
    "                               pt2=(int(instance[i+1][0]*size),int((1-instance[i+1][1])*size)),\n",
    "                               color=1,\n",
    "                               thickness=line_width,\n",
    "                               lineType=cv2.LINE_AA,\n",
    "                              )\n",
    "                images.append(copy.deepcopy(img))\n",
    "                action = (instance[i+1][0]-instance[i][0], instance[i+1][1]-instance[i][1])\n",
    "                actions.append(action)\n",
    "                \n",
    "    images = np.array(images).transpose(0,3,1,2).astype(np.uint8)\n",
    "    actions = np.array(actions)[1:]\n",
    "    rewards = np.zeros(len(actions))\n",
    "    dones = np.zeros(len(actions))\n",
    "    dones[-1] = 1\n",
    "    return images, actions, rewards, dones\n"
   ]
  },
  {
   "cell_type": "code",
   "execution_count": 9,
   "id": "5012fdeb-2519-4fc1-8d68-561057c247af",
   "metadata": {},
   "outputs": [],
   "source": [
    "import glob\n",
    "data_dir = \"data/preprocessed/complete\"\n",
    "filenames = glob.glob(os.path.join(data_dir, '*_preprocessed'))"
   ]
  },
  {
   "cell_type": "code",
   "execution_count": null,
   "id": "28d024be-41a9-4dc0-97fd-f9dae70e5b8f",
   "metadata": {},
   "outputs": [],
   "source": []
  },
  {
   "cell_type": "code",
   "execution_count": 10,
   "id": "f5a9a790-f124-498f-89c0-aab3dc1d5446",
   "metadata": {},
   "outputs": [
    {
     "name": "stdout",
     "output_type": "stream",
     "text": [
      "Reading from: data/preprocessed/complete/002-f-22-right_2019-06-05-12-21-29_preprocessed\n",
      "Reading from: data/preprocessed/complete/004-m-21-right_2019-06-05-12-19-08_preprocessed\n",
      "Reading from: data/preprocessed/complete/005-f-19-right_2019-06-19-12-21-40_preprocessed\n",
      "Reading from: data/preprocessed/complete/007-f-24-right_2019-06-19-12-18-49_preprocessed\n",
      "Reading from: data/preprocessed/complete/008-f-21-right_2019-06-19-12-24-59_preprocessed\n",
      "Reading from: data/preprocessed/complete/010-f-24-right_2019-06-25-13-03-18_preprocessed\n",
      "Reading from: data/preprocessed/complete/012-m-28-right_2019-06-25-13-03-16_preprocessed\n",
      "Reading from: data/preprocessed/complete/013-f-26-right_2019-06-27-11-23-48_preprocessed\n",
      "Reading from: data/preprocessed/complete/018-f-21-right_2019-07-03-12-22-23_preprocessed\n",
      "Reading from: data/preprocessed/complete/019-f-20-right_2019-07-03-12-20-29_preprocessed\n",
      "Reading from: data/preprocessed/complete/020-f-21-right_2019-07-03-12-22-47_preprocessed\n",
      "Reading from: data/preprocessed/complete/022-f-23-right_2019-07-03-17-32-20_preprocessed\n",
      "Reading from: data/preprocessed/complete/025-f-19-right_2019-07-10-12-18-21_preprocessed\n",
      "Reading from: data/preprocessed/complete/026-f-20-left_2019-07-10-12-17-33_preprocessed\n",
      "Reading from: data/preprocessed/complete/030-f-23-right_2019-07-17-12-43-31_preprocessed\n",
      "Reading from: data/preprocessed/complete/031-f-22-right_2019-07-17-12-45-56_preprocessed\n",
      "Reading from: data/preprocessed/complete/032-m-27-left_2019-07-17-12-42-25_preprocessed\n",
      "Reading from: data/preprocessed/complete/033-m-21-right_2019-07-24-13-07-44_preprocessed\n",
      "Reading from: data/preprocessed/complete/036-f-21-right_2019-08-07-11-33-58_preprocessed\n",
      "Reading from: data/preprocessed/complete/038-f-18-right_2019-10-11-15-32-11_preprocessed\n",
      "Reading from: data/preprocessed/complete/040-f-19-right_2019-10-11-15-25-38_preprocessed\n",
      "Reading from: data/preprocessed/complete/041-f-20-right_2019-10-11-15-41-53_preprocessed\n",
      "Reading from: data/preprocessed/complete/043-f-19-right_2019-10-11-15-48-13_preprocessed\n",
      "Reading from: data/preprocessed/complete/045-f-19-right_2019-10-11-16-02-11_preprocessed\n",
      "Reading from: data/preprocessed/complete/049-m-19-left_2019-10-11-16-29-10_preprocessed\n",
      "Reading from: data/preprocessed/complete/051-f-18-right_2019-10-11-16-24-40_preprocessed\n",
      "Reading from: data/preprocessed/complete/053-f-20-right_2019-10-11-16-36-12_preprocessed\n",
      "Reading from: data/preprocessed/complete/054-f-19-right_2019-10-11-16-40-31_preprocessed\n",
      "Reading from: data/preprocessed/complete/055-f-20-left_2019-10-11-16-38-49_preprocessed\n",
      "Reading from: data/preprocessed/complete/056-f-20-right_2019-10-11-16-48-09_preprocessed\n",
      "Reading from: data/preprocessed/complete/057-m-22-left_2019-10-11-16-49-57_preprocessed\n",
      "Reading from: data/preprocessed/complete/058-m-19-right_2019-10-11-16-52-29_preprocessed\n",
      "Reading from: data/preprocessed/complete/060-m-17-right_2019-10-11-17-12-40_preprocessed\n",
      "Reading from: data/preprocessed/complete/062-m-21-right_2019-11-22-12-06-11_preprocessed\n",
      "Reading from: data/preprocessed/complete/064-m-25-right_2019-11-22-12-07-00_preprocessed\n",
      "Reading from: data/preprocessed/complete/065-f-24-right_2019-11-22-14-47-54_preprocessed\n",
      "Reading from: data/preprocessed/complete/066-m-24-left_2019-11-22-14-44-21_preprocessed\n",
      "Reading from: data/preprocessed/complete/067-m-25-right_2019-12-06-12-22-22_preprocessed\n",
      "Reading from: data/preprocessed/complete/068-f-23-right_2019-12-06-12-17-15_preprocessed\n",
      "Reading from: data/preprocessed/complete/069-m-24-right_2019-12-11-14-05-14_preprocessed\n",
      "Reading from: data/preprocessed/complete/070-m-29-right_2019-12-11-14-05-11_preprocessed\n",
      "Reading from: data/preprocessed/complete/071-f-23-right_2019-12-19-12-07-49_preprocessed\n",
      "Reading from: data/preprocessed/complete/072-m-23-right_2019-12-19-12-12-02_preprocessed\n",
      "Reading from: data/preprocessed/complete/074-m-27-right_2019-12-19-12-49-50_preprocessed\n",
      "Reading from: data/preprocessed/complete/075-m-23-right_2019-12-19-12-58-05_preprocessed\n",
      "Reading from: data/preprocessed/complete/076-m-24-right_2019-12-19-13-00-39_preprocessed\n",
      "Reading from: data/preprocessed/complete/077-m-23-right_2019-12-19-12-52-17_preprocessed\n",
      "Reading from: data/preprocessed/complete/078-m-25-right_2020-01-17-12-31-07_preprocessed\n",
      "Reading from: data/preprocessed/complete/079-m-30-right_2020-01-17-12-23-22_preprocessed\n",
      "Reading from: data/preprocessed/complete/080-m-23-right_2020-01-23-12-10-22_preprocessed\n",
      "Reading from: data/preprocessed/complete/081-m-23-right_2020-01-23-12-16-10_preprocessed\n",
      "Reading from: data/preprocessed/complete/082-m-25-right_2020-01-23-12-26-54_preprocessed\n",
      "Reading from: data/preprocessed/complete/083-f-23-right_2020-01-23-12-27-58_preprocessed\n",
      "Reading from: data/preprocessed/complete/084-f-22-right_2020-02-06-12-05-15_preprocessed\n",
      "Reading from: data/preprocessed/complete/085-m-25-right_2020-02-06-12-13-09_preprocessed\n",
      "Reading from: data/preprocessed/complete/086-m-26-right_2020-02-06-12-19-21_preprocessed\n",
      "Reading from: data/preprocessed/complete/087-f-23-right_2020-02-06-12-21-04_preprocessed\n",
      "Reading from: data/preprocessed/complete/088-m-24-right_2020-02-07-11-34-53_preprocessed\n",
      "Reading from: data/preprocessed/complete/089-m-27-right_2020-02-07-11-40-29_preprocessed\n",
      "Reading from: data/preprocessed/complete/090-f-28-right_2020-03-03-16-15-53_preprocessed\n",
      "Reading from: data/preprocessed/complete/091-m-30-right_2020-03-03-16-13-37_preprocessed\n",
      "Reading from: data/preprocessed/complete/092-m-29-right_2020-03-03-16-18-43_preprocessed\n",
      "Reading from: data/preprocessed/complete/093-m-24-left_2020-08-04-12-56-21_preprocessed\n",
      "Reading from: data/preprocessed/complete/094-m-23-left_2020-08-04-12-50-19_preprocessed\n",
      "Reading from: data/preprocessed/complete/095-m-23-right_2020-08-04-13-24-20_preprocessed\n",
      "Reading from: data/preprocessed/complete/096-m-23-right_2020-08-04-13-13-41_preprocessed\n",
      "Reading from: data/preprocessed/complete/098-m-27-right_2020-08-04-14-38-53_preprocessed\n",
      "Reading from: data/preprocessed/complete/099-f-21-right_2020-08-04-15-10-41_preprocessed\n",
      "Reading from: data/preprocessed/complete/100-m-30-left_2020-08-04-15-00-03_preprocessed\n",
      "Reading from: data/preprocessed/complete/102-m-22-right_2020-08-04-15-53-02_preprocessed\n",
      "Reading from: data/preprocessed/complete/103-m-23-right_2020-08-04-16-29-27_preprocessed\n",
      "Reading from: data/preprocessed/complete/104-m-22-right_2020-08-04-16-27-18_preprocessed\n",
      "Reading from: data/preprocessed/complete/105-m-26-right_2020-08-04-18-11-26_preprocessed\n",
      "Reading from: data/preprocessed/complete/106-m-22-right_2020-08-04-18-04-39_preprocessed\n",
      "Reading from: data/preprocessed/complete/107-m-32-right_2020-09-03-13-32-42_preprocessed\n",
      "Reading from: data/preprocessed/complete/110-m-33-right_2020-09-22-14-02-14_preprocessed\n",
      "Reading from: data/preprocessed/complete/111-m-28-right_2020-09-24-15-19-11_preprocessed\n"
     ]
    }
   ],
   "source": [
    "import os\n",
    "for idx in range(len(filenames)):\n",
    "    filename = filenames[idx]\n",
    "    basename = os.path.basename(filename)\n",
    "    participant = read_original_data(filename)\n",
    "    if idx < 70:\n",
    "        save_folder = \"Drawing/train\"\n",
    "    else:\n",
    "        save_folder = \"Drawing/validation\"\n",
    "    for s, symbol in enumerate(participant[\"trajectories\"]):\n",
    "        if s > 9:\n",
    "            # 数字以外は省略\n",
    "            break\n",
    "        # dataset = dict(image=[], action=[], done=[])\n",
    "        for i, _instance in enumerate(symbol):\n",
    "            \n",
    "            instance = _instance[:participant[\"lengths\"][s, i]]\n",
    "            images, actions, rewards, dones = get_image_sequence(instance, size=64, line_width=3)\n",
    "            dataset = dict()\n",
    "            dataset[\"image_bin\"] = images\n",
    "            dataset[\"action\"] = actions\n",
    "            dataset[\"reward\"] = rewards\n",
    "            dataset[\"done\"] = dones\n",
    "            save_foldername = \"{}/{}\".format(save_folder, s)\n",
    "            save_filename = \"{}/{}_{}.npy\".format(save_foldername, basename, i)\n",
    "            # print(save_filename)\n",
    "            os.makedirs(save_foldername, exist_ok=True)\n",
    "            np.save(save_filename, dataset)"
   ]
  },
  {
   "cell_type": "code",
   "execution_count": 7,
   "id": "109448b9-b529-407e-949e-78eb61686c1b",
   "metadata": {},
   "outputs": [
    {
     "data": {
      "text/plain": [
       "1.0"
      ]
     },
     "execution_count": 7,
     "metadata": {},
     "output_type": "execute_result"
    }
   ],
   "source": [
    "images.max()"
   ]
  }
 ],
 "metadata": {
  "kernelspec": {
   "display_name": "Python 3 (ipykernel)",
   "language": "python",
   "name": "python3"
  },
  "language_info": {
   "codemirror_mode": {
    "name": "ipython",
    "version": 3
   },
   "file_extension": ".py",
   "mimetype": "text/x-python",
   "name": "python",
   "nbconvert_exporter": "python",
   "pygments_lexer": "ipython3",
   "version": "3.8.0"
  },
  "vscode": {
   "interpreter": {
    "hash": "f50c9da5724cd01c04a3aca0f3896e3851b73cd94c2c5c49a537cab63627c5d4"
   }
  }
 },
 "nbformat": 4,
 "nbformat_minor": 5
}
