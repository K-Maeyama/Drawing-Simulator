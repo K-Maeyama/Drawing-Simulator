{
 "cells": [
  {
   "cell_type": "code",
   "execution_count": 1,
   "metadata": {},
   "outputs": [],
   "source": [
    "import os\n",
    "import sys\n",
    "import matplotlib.pyplot as plt\n",
    "import numpy as np\n",
    "from pathlib import Path\n",
    "\n",
    "sys.path.append(os.path.join(Path().resolve(), 'DigiLeTs/scripts'))"
   ]
  },
  {
   "cell_type": "code",
   "execution_count": 116,
   "metadata": {},
   "outputs": [],
   "source": [
    "import cv2\n",
    "import copy\n",
    "\n",
    "# class DrawingEnv_Digit:\n",
    "#     def __init__(self, params: dict) -> None:\n",
    "#         self.size = params[\"size\"]\n",
    "#         self.line_width = params[\"line_width\"]\n",
    "#         self.initial_position = params[\"initial_position\"]\n",
    "#         self.max_step = params[\"max_step\"]\n",
    "#         self.img = None\n",
    "#         self.prev_position = self.initial_position\n",
    "#         self._itr = 0\n",
    "        \n",
    "#     def init(self, initial_position=None):\n",
    "#         self.img = np.zeros((self.size, self.size, 3))\n",
    "#         self._itr = 0\n",
    "#         if initial_position == None:\n",
    "#             self.prev_position = self.initial_position\n",
    "#         else:\n",
    "#             self.prev_position = initial_position\n",
    "#         observation = dict(image=self.img,\n",
    "#                            mask=self.img,\n",
    "#                            position=self.prev_position)\n",
    "#         return observation\n",
    "        \n",
    "#     def step(self, position, draw=True):\n",
    "#         if draw:\n",
    "#             _img = cv2.line(img=self.img,\n",
    "#                             pt1=(int(self.prev_position[0]*self.size), int(self.prev_position[1]*self.size)),\n",
    "#                             pt2=(int(position[0]*self.size), int(position[1]*self.size)),\n",
    "#                             color=(0, 255, 0),\n",
    "#                             thickness=self.line_width,\n",
    "#                             lineType=cv2.LINE_AA,\n",
    "#                             )\n",
    "#         else:\n",
    "#             _img = self.img\n",
    "#         self.img = copy.deepcopy(_img)\n",
    "#         self.prev_position = position\n",
    "#         observation = dict(image=self.img,\n",
    "#                            mask=self.img,\n",
    "#                            position=position,\n",
    "#                            )\n",
    "#         reward = 0\n",
    "#         done = False\n",
    "#         info = dict()\n",
    "#         self._itr += 1\n",
    "#         if self._itr >= self.max_step:\n",
    "#             done = True\n",
    "#         return observation, reward, done, info\n",
    "\n",
    "class DrawingEnv_Digit:\n",
    "    def __init__(self, params: dict) -> None:\n",
    "        self.size = params[\"size\"]\n",
    "        self.line_width = params[\"line_width\"]\n",
    "        self.initial_position = params[\"initial_position\"]\n",
    "        self.max_step = params[\"max_step\"]\n",
    "        self.mask = None\n",
    "        self.prev_position = self.initial_position\n",
    "        self._itr = 0\n",
    "    \n",
    "    def get_image(self, mask):\n",
    "        image = np.zeros((self.size, self.size, 3), dtype=np.uint8)\n",
    "        image[:,:,1] = mask * 255\n",
    "        return image\n",
    "    \n",
    "    def init(self, initial_position=None):\n",
    "        self.mask = np.zeros((self.size, self.size), dtype=np.uint8)\n",
    "        image = self.get_image(self.mask)\n",
    "        self._itr = 0\n",
    "        if initial_position == None:\n",
    "            self.prev_position = self.initial_position\n",
    "        else:\n",
    "            self.prev_position = initial_position\n",
    "        observation = dict(image=image,\n",
    "                           mask=self.mask,\n",
    "                           position=self.prev_position)\n",
    "        return observation\n",
    "        \n",
    "    def step(self, position, draw=True):\n",
    "        if draw:\n",
    "            _mask = cv2.line(img=self.mask,\n",
    "                            pt1=(int(self.prev_position[0]*self.size), int(self.prev_position[1]*self.size)),\n",
    "                            pt2=(int(position[0]*self.size), int(position[1]*self.size)),\n",
    "                            color=1,\n",
    "                            thickness=self.line_width,\n",
    "                            lineType=cv2.LINE_AA,\n",
    "                            )\n",
    "        else:\n",
    "            _mask = self.mask\n",
    "        self.mask = copy.deepcopy(_mask)\n",
    "        image = self.get_image(self.mask)\n",
    "        self.prev_position = position\n",
    "        observation = dict(image=image,\n",
    "                           mask=self.mask,\n",
    "                           position=position,\n",
    "                           )\n",
    "        reward = 0\n",
    "        done = False\n",
    "        info = dict()\n",
    "        self._itr += 1\n",
    "        if self._itr >= self.max_step:\n",
    "            done = True\n",
    "        return observation, reward, done, info\n",
    "\n",
    "class DrawingEnv_Body:\n",
    "    def __init__(self, params: dict) -> None:\n",
    "        self.size = params[\"size\"]\n",
    "        self.initial_position = params[\"initial_position\"]\n",
    "        self.max_step = params[\"max_step\"]\n",
    "        self._itr = 0\n",
    "    \n",
    "    def get_image(self, pos):\n",
    "        dx = 0.1\n",
    "        dy = 0.3\n",
    "\n",
    "        img_body = np.zeros((self.size, self.size, 3), dtype=np.uint8)\n",
    "        img_body = cv2.rectangle(img=img_body,\n",
    "                                pt1=(int(pos[0]*self.size), int(pos[1]*self.size)),\n",
    "                                pt2=(int((pos[0]+dx)*self.size), int((pos[1]+dy)*self.size)),\n",
    "                                color=(0, 0, 255),\n",
    "                                thickness=-1,\n",
    "                                lineType=cv2.LINE_AA,\n",
    "                                )\n",
    "        mask = np.zeros((self.size, self.size), dtype=np.uint8)\n",
    "        mask = cv2.rectangle(img=mask,\n",
    "                            pt1=(int(pos[0]*self.size), int(pos[1]*self.size)),\n",
    "                            pt2=(int((pos[0]+dx)*self.size), int((pos[1]+dy)*self.size)),\n",
    "                            color=1,\n",
    "                            thickness=-1,\n",
    "                            lineType=cv2.LINE_AA,\n",
    "                            )\n",
    "        return img_body, mask\n",
    "    \n",
    "    def init(self, initial_position=None):\n",
    "        self._itr = 0\n",
    "        if initial_position == None:\n",
    "            initial_position = self.initial_position\n",
    "        img, mask = self.get_image(initial_position)\n",
    "        observation = dict(image=img,\n",
    "                           mask=mask,\n",
    "                           position=initial_position,\n",
    "                           )\n",
    "        return observation\n",
    "        \n",
    "    def step(self, position):\n",
    "        img, mask = self.get_image(position)\n",
    "        observation = dict(image=img,\n",
    "                           mask=mask,\n",
    "                           position=position,\n",
    "                           )\n",
    "        reward = 0\n",
    "        done = False\n",
    "        info = dict()\n",
    "        self._itr += 1\n",
    "        if self._itr >= self.max_step:\n",
    "            done = True\n",
    "        return observation, reward, done, info\n",
    "\n",
    "class DrawingEnv_Moc1:\n",
    "    def __init__(self, params: dict) -> None:\n",
    "        self.size = params[\"size\"]\n",
    "        self.env_digit = DrawingEnv_Digit(params)\n",
    "        self.env_body = DrawingEnv_Body(params)\n",
    "        self.obs_residual = dict(image=np.zeros((self.size, self.size, 3)))\n",
    "    \n",
    "    def get_mask(self, obs_digit, obs_body):\n",
    "        mask = np.zeros((self.size, self.size, 3))\n",
    "        mask[:,:,2] = obs_body[\"mask\"]\n",
    "        # mask[:,:,1] = np.max(np.concatenate([obs_digit[\"mask\"], 1-obs_body[\"mask\"]], axis=0), axis=0)\n",
    "        mask[:,:,1] = obs_digit[\"mask\"]-obs_body[\"mask\"]\n",
    "        # mask[:,:,1] = obs_digit[\"mask\"]\n",
    "        mask[:,:,0] = np.ones((self.size, self.size)) - mask[:,:,1] - mask[:,:,2]\n",
    "        \n",
    "        return mask\n",
    "    \n",
    "    def marge_image(self, obs_digit, obs_body, obs_residual, mask):\n",
    "        image = np.zeros((self.size, self.size, 3))\n",
    "        image += obs_residual[\"image\"] * np.expand_dims(mask[:,:,0], -1)\n",
    "        image += obs_digit[\"image\"] * np.expand_dims(mask[:,:,1], -1)\n",
    "        image += obs_body[\"image\"] * np.expand_dims(mask[:,:,2], -1)\n",
    "        \n",
    "        return image\n",
    "    \n",
    "    def merge_observation(self, obs_digit, obs_body):\n",
    "        mask = self.get_mask(obs_digit=obs_digit,\n",
    "                             obs_body=obs_body,\n",
    "                             )\n",
    "        image = self.marge_image(obs_digit=obs_digit,\n",
    "                                 obs_body=obs_body,\n",
    "                                 obs_residual=self.obs_residual,\n",
    "                                 mask=mask,\n",
    "                                 )\n",
    "        observation = dict(image=image,\n",
    "                           image_digit=obs_digit[\"image\"],\n",
    "                           image_body=obs_body[\"image\"],\n",
    "                           image_residual=self.obs_residual[\"image\"],\n",
    "                           mask=mask,\n",
    "                           position=obs_digit[\"position\"],\n",
    "                           )\n",
    "        return observation\n",
    "    \n",
    "    def init(self, initial_position=None):\n",
    "        obs_digit = self.env_digit.init()\n",
    "        obs_body = self.env_body.init()\n",
    "        \n",
    "        observation = self.merge_observation(obs_digit=obs_digit,\n",
    "                                             obs_body=obs_body)\n",
    "        return observation\n",
    "    \n",
    "    def step(self, position, draw=True):\n",
    "        obs_digit, _, _, _ = self.env_digit.step(position, draw)\n",
    "        obs_body, _, _, _ = self.env_body.step(position)\n",
    "        observation = self.merge_observation(obs_digit=obs_digit,\n",
    "                                             obs_body=obs_body)\n",
    "        reward = 0\n",
    "        done = False\n",
    "        info = dict()\n",
    "        return observation, reward, done, info\n",
    "\n"
   ]
  },
  {
   "cell_type": "code",
   "execution_count": null,
   "metadata": {},
   "outputs": [],
   "source": []
  },
  {
   "cell_type": "code",
   "execution_count": 117,
   "metadata": {},
   "outputs": [],
   "source": [
    "pos = (0.8, 0.6)\n",
    "\n",
    "params = dict(size=256,\n",
    "              line_width=3,\n",
    "              initial_position=(pos[0],pos[1]),\n",
    "              max_step=2e2,\n",
    "              )\n",
    "\n",
    "env = DrawingEnv_Moc1(params)\n",
    "observation = env.init()\n",
    "observation, _, _, _ = env.step(pos)"
   ]
  },
  {
   "cell_type": "code",
   "execution_count": 118,
   "metadata": {},
   "outputs": [
    {
     "name": "stderr",
     "output_type": "stream",
     "text": [
      "Clipping input data to the valid range for imshow with RGB data ([0..1] for floats or [0..255] for integers).\n"
     ]
    },
    {
     "data": {
      "image/png": "[encoded data removed]",
      "text/plain": [
       "<Figure size 640x480 with 1 Axes>"
      ]
     },
     "metadata": {},
     "output_type": "display_data"
    }
   ],
   "source": [
    "plt.imshow(observation[\"mask\"])\n",
    "plt.show()"
   ]
  },
  {
   "cell_type": "code",
   "execution_count": 119,
   "metadata": {},
   "outputs": [
    {
     "name": "stderr",
     "output_type": "stream",
     "text": [
      "Clipping input data to the valid range for imshow with RGB data ([0..1] for floats or [0..255] for integers).\n"
     ]
    },
    {
     "data": {
      "image/png": "[encoded data removed]",
      "text/plain": [
       "<Figure size 640x480 with 1 Axes>"
      ]
     },
     "metadata": {},
     "output_type": "display_data"
    }
   ],
   "source": [
    "plt.imshow(observation[\"image\"])\n",
    "plt.show()"
   ]
  },
  {
   "cell_type": "code",
   "execution_count": 120,
   "metadata": {},
   "outputs": [],
   "source": [
    "\n",
    "pos = (0.8, 0.6)\n",
    "dx = 0.1\n",
    "dy = 0.3\n",
    "\n",
    "size = 256\n",
    "img_body = np.zeros((size, size))\n",
    "img_body = cv2.rectangle(img=img_body,\n",
    "                        pt1=(int(pos[0]*size), int(pos[1]*size)),\n",
    "                        pt2=(int((pos[0]+dx)*size), int((pos[1]+dy)*size)),\n",
    "                        color=1,\n",
    "                        thickness=-1,\n",
    "                        lineType=cv2.LINE_AA,\n",
    "                        )\n",
    "# position = [(pos[0]+dx, pos[1]+dy), (pos[0]+dx, pos[1]), (pos[0],pos[1]), (pos[0],pos[1]+dy),(pos[0]+dx,pos[1]+dy)]\n",
    "# for i in range(len(position)-1):\n",
    "#     img_body = cv2.line(img=img_body,\n",
    "#                         pt1=(int(position[i][0]*size), int(position[i][1]*size)),\n",
    "#                         pt2=(int(position[i+1][0]*size), int(position[i+1][1]*size)),\n",
    "#                         color=1,\n",
    "#                         thickness=3,\n",
    "#                         lineType=cv2.LINE_AA,\n",
    "#                         )"
   ]
  },
  {
   "cell_type": "code",
   "execution_count": 121,
   "metadata": {},
   "outputs": [
    {
     "data": {
      "text/plain": [
       "<matplotlib.image.AxesImage at 0x7f8a2bfb3e20>"
      ]
     },
     "execution_count": 121,
     "metadata": {},
     "output_type": "execute_result"
    },
    {
     "data": {
      "image/png": "[encoded data removed]",
      "text/plain": [
       "<Figure size 640x480 with 1 Axes>"
      ]
     },
     "metadata": {},
     "output_type": "display_data"
    }
   ],
   "source": [
    "plt.imshow(img_body)"
   ]
  },
  {
   "cell_type": "code",
   "execution_count": null,
   "metadata": {},
   "outputs": [],
   "source": []
  },
  {
   "cell_type": "code",
   "execution_count": null,
   "metadata": {},
   "outputs": [],
   "source": []
  },
  {
   "cell_type": "code",
   "execution_count": 122,
   "metadata": {},
   "outputs": [],
   "source": [
    "from data import read_original_data"
   ]
  },
  {
   "cell_type": "code",
   "execution_count": 123,
   "metadata": {},
   "outputs": [],
   "source": [
    "import cv2\n",
    "import copy\n",
    "\n",
    "def get_image_sequence(instance, size=256, line_width=3):\n",
    "    params = dict(size=256,\n",
    "              line_width=3,\n",
    "              initial_position=(instance[0][0],1-instance[0][1]),\n",
    "              max_step=2e2,\n",
    "              )\n",
    "    \n",
    "    env = DrawingEnv_Moc1(params)\n",
    "    observation = env.init()\n",
    "    \n",
    "    images = [observation[\"image\"]]\n",
    "    mask = [observation[\"mask\"]]\n",
    "    actions = []\n",
    "    for i in range(1, len(instance) - 1):\n",
    "        if instance[i][5] == 0 and instance[i+1][5] == 0:\n",
    "            if instance[i+1][3] == 0:\n",
    "                position = (instance[i+1][0], 1-instance[i+1][1])\n",
    "                \n",
    "                observation, reward, done, info = env.step(position)\n",
    "                images.append(observation[\"image\"])\n",
    "                mask.append(observation[\"mask\"])\n",
    "                action = (instance[i+1][0]-instance[i][0], instance[i+1][1]-instance[i][1])\n",
    "                actions.append(action)\n",
    "    \n",
    "    # images = np.array(images).transpose(0,3,1,2).astype(np.uint8)\n",
    "    images = np.array(images).astype(np.uint8)\n",
    "    mask = np.array(mask).astype(np.uint8)\n",
    "    observations = dict(image=images,mask=mask)\n",
    "    actions = np.array(actions)\n",
    "    rewards = np.zeros(len(actions))\n",
    "    dones = np.zeros(len(actions))\n",
    "    dones[-1] = 1\n",
    "    return observations, actions, rewards, dones\n"
   ]
  },
  {
   "cell_type": "code",
   "execution_count": 124,
   "metadata": {},
   "outputs": [],
   "source": [
    "import glob\n",
    "data_dir = \"DigiLeTs/data/preprocessed/complete\"\n",
    "filenames = glob.glob(os.path.join(data_dir, '*_preprocessed'))"
   ]
  },
  {
   "cell_type": "code",
   "execution_count": 125,
   "metadata": {},
   "outputs": [
    {
     "name": "stdout",
     "output_type": "stream",
     "text": [
      "Reading from: DigiLeTs/data/preprocessed/complete/002-f-22-right_2019-06-05-12-21-29_preprocessed\n"
     ]
    }
   ],
   "source": [
    "import os\n",
    "for idx in range(1):\n",
    "    filename = filenames[idx]\n",
    "    basename = os.path.basename(filename)\n",
    "    participant = read_original_data(filename)\n",
    "    if idx < 70:\n",
    "        save_folder = \"Drawing/train\"\n",
    "    else:\n",
    "        save_folder = \"Drawing/validation\"\n",
    "    for s, symbol in enumerate(participant[\"trajectories\"]):\n",
    "        if s > 9:\n",
    "            # 数字以外は省略\n",
    "            break\n",
    "        for i, _instance in enumerate(symbol):\n",
    "            \n",
    "            instance = _instance[:participant[\"lengths\"][s, i]]\n",
    "            observations, actions, rewards, dones = get_image_sequence(instance, size=64, line_width=3)\n",
    "            dataset = dict()\n",
    "            dataset[\"image\"] = observations[\"image\"]\n",
    "            dataset[\"mask\"] = observations[\"mask\"]\n",
    "            dataset[\"action\"] = actions\n",
    "            dataset[\"reward\"] = rewards\n",
    "            dataset[\"done\"] = dones\n",
    "            \n",
    "            break\n",
    "        break"
   ]
  },
  {
   "cell_type": "code",
   "execution_count": 126,
   "metadata": {},
   "outputs": [
    {
     "data": {
      "text/plain": [
       "<matplotlib.image.AxesImage at 0x7f8a2bf14700>"
      ]
     },
     "execution_count": 126,
     "metadata": {},
     "output_type": "execute_result"
    },
    {
     "data": {
      "image/png": "[encoded data removed]",
      "text/plain": [
       "<Figure size 640x480 with 1 Axes>"
      ]
     },
     "metadata": {},
     "output_type": "display_data"
    }
   ],
   "source": [
    "plt.imshow(dataset[\"image\"][-1])"
   ]
  },
  {
   "cell_type": "code",
   "execution_count": 127,
   "metadata": {},
   "outputs": [
    {
     "data": {
      "text/plain": [
       "<matplotlib.image.AxesImage at 0x7f8a2bf009a0>"
      ]
     },
     "execution_count": 127,
     "metadata": {},
     "output_type": "execute_result"
    },
    {
     "data": {
      "image/png": "[encoded data removed]",
      "text/plain": [
       "<Figure size 640x480 with 1 Axes>"
      ]
     },
     "metadata": {},
     "output_type": "display_data"
    }
   ],
   "source": [
    "plt.imshow(dataset[\"mask\"][-1,:,:,0]*255)"
   ]
  },
  {
   "cell_type": "code",
   "execution_count": 128,
   "metadata": {},
   "outputs": [
    {
     "data": {
      "text/plain": [
       "<matplotlib.image.AxesImage at 0x7f8a2be7b070>"
      ]
     },
     "execution_count": 128,
     "metadata": {},
     "output_type": "execute_result"
    },
    {
     "data": {
      "image/png": "[encoded data removed]",
      "text/plain": [
       "<Figure size 640x480 with 1 Axes>"
      ]
     },
     "metadata": {},
     "output_type": "display_data"
    }
   ],
   "source": [
    "plt.imshow((dataset[\"mask\"][-1,:,:,1]-dataset[\"mask\"][-1,:,:,2])*255)"
   ]
  },
  {
   "cell_type": "code",
   "execution_count": null,
   "metadata": {},
   "outputs": [],
   "source": []
  }
 ],
 "metadata": {
  "kernelspec": {
   "display_name": "Python 3.8.0 64-bit ('3.8.0')",
   "language": "python",
   "name": "python3"
  },
  "language_info": {
   "codemirror_mode": {
    "name": "ipython",
    "version": 3
   },
   "file_extension": ".py",
   "mimetype": "text/x-python",
   "name": "python",
   "nbconvert_exporter": "python",
   "pygments_lexer": "ipython3",
   "version": "3.8.0"
  },
  "orig_nbformat": 4,
  "vscode": {
   "interpreter": {
    "hash": "f50c9da5724cd01c04a3aca0f3896e3851b73cd94c2c5c49a537cab63627c5d4"
   }
  }
 },
 "nbformat": 4,
 "nbformat_minor": 2
}
