{
 "cells": [
  {
   "cell_type": "code",
   "execution_count": 1,
   "metadata": {},
   "outputs": [],
   "source": [
    "import os\n",
    "import sys\n",
    "import matplotlib.pyplot as plt\n",
    "import numpy as np\n",
    "from pathlib import Path\n",
    "\n",
    "# sys.path.append(Path().resolve().parent)\n",
    "# sys.path.append(Path().resolve())\n",
    "sys.path.append(os.path.join(Path().resolve(), 'DigiLeTs/scripts'))"
   ]
  },
  {
   "cell_type": "code",
   "execution_count": 2,
   "metadata": {},
   "outputs": [],
   "source": [
    "import cv2\n",
    "import copy\n",
    "\n",
    "class DrawingEnv_Core:\n",
    "    def __init__(self, params: dict) -> None:\n",
    "        self.size = params[\"size\"]\n",
    "        self.line_width = params[\"line_width\"]\n",
    "        self.initial_position = params[\"initial_position\"]\n",
    "        self.img = None\n",
    "        self.prev_position = self.initial_position\n",
    "        \n",
    "    def init(self, initial_position=None):\n",
    "        self.img = np.zeros((self.size, self.size,1))\n",
    "        if initial_position == None:\n",
    "            self.prev_position = self.initial_position\n",
    "        else:\n",
    "            self.prev_position = initial_position\n",
    "        observation = dict(image=self.img,\n",
    "                           position=self.prev_position)\n",
    "        return observation\n",
    "        \n",
    "    def step(self, position):\n",
    "        _img = cv2.line(img=self.img,\n",
    "                        pt1=(int(self.prev_position[0]*self.size), int(self.prev_position[1]*self.size)),\n",
    "                        pt2=(int(position[0]*self.size), int(position[1]*self.size)),\n",
    "                        color=1,\n",
    "                        thickness=self.line_width,\n",
    "                        lineType=cv2.LINE_AA,\n",
    "                        )\n",
    "        self.img = copy.deepcopy(_img)\n",
    "        self.prev_position = position\n",
    "        observation = dict(image=self.img,\n",
    "                           position=position)\n",
    "        reward = 0\n",
    "        done = False\n",
    "        info = dict()\n",
    "        return observation, reward, done, info\n",
    "        \n",
    "params = dict(size=256,\n",
    "              line_width=3,\n",
    "              initial_position=(0.5,0.5),\n",
    "              )\n",
    "\n",
    "env = DrawingEnv_Core(params)"
   ]
  },
  {
   "cell_type": "code",
   "execution_count": 3,
   "metadata": {},
   "outputs": [],
   "source": [
    "from data import read_original_data"
   ]
  },
  {
   "cell_type": "code",
   "execution_count": 4,
   "metadata": {},
   "outputs": [],
   "source": [
    "import cv2\n",
    "import copy\n",
    "\n",
    "def get_image_sequence(instance, size=256, line_width=3):\n",
    "    \n",
    "    params = dict(size=256,\n",
    "              line_width=3,\n",
    "              initial_position=(instance[0][0],1-instance[0][1]),\n",
    "              )\n",
    "\n",
    "    env = DrawingEnv_Core(params)\n",
    "    observation = env.init()\n",
    "    \n",
    "    images = [observation[\"image\"]]\n",
    "    actions = []\n",
    "    for i in range(1, len(instance) - 1):\n",
    "        if instance[i][5] == 0 and instance[i+1][5] == 0:\n",
    "            if instance[i+1][3] == 0:\n",
    "                position = (instance[i+1][0], 1-instance[i+1][1])\n",
    "                \n",
    "                observation, reward, done, info = env.step(position)\n",
    "                images.append(observation[\"image\"])\n",
    "                \n",
    "                action = (instance[i+1][0]-instance[i][0], instance[i+1][1]-instance[i][1])\n",
    "                actions.append(action)\n",
    "    \n",
    "    images = np.array(images).transpose(0,3,1,2).astype(np.uint8)\n",
    "    actions = np.array(actions)\n",
    "    rewards = np.zeros(len(actions))\n",
    "    dones = np.zeros(len(actions))\n",
    "    dones[-1] = 1\n",
    "    return images, actions, rewards, dones\n"
   ]
  },
  {
   "cell_type": "code",
   "execution_count": 5,
   "metadata": {},
   "outputs": [],
   "source": [
    "import glob\n",
    "data_dir = \"DigiLeTs/data/preprocessed/complete\"\n",
    "filenames = glob.glob(os.path.join(data_dir, '*_preprocessed'))"
   ]
  },
  {
   "cell_type": "code",
   "execution_count": 8,
   "metadata": {},
   "outputs": [
    {
     "name": "stdout",
     "output_type": "stream",
     "text": [
      "Reading from: DigiLeTs/data/preprocessed/complete/002-f-22-right_2019-06-05-12-21-29_preprocessed\n"
     ]
    }
   ],
   "source": [
    "import os\n",
    "for idx in range(1):\n",
    "    filename = filenames[idx]\n",
    "    basename = os.path.basename(filename)\n",
    "    participant = read_original_data(filename)\n",
    "    if idx < 70:\n",
    "        save_folder = \"Drawing/train\"\n",
    "    else:\n",
    "        save_folder = \"Drawing/validation\"\n",
    "    for s, symbol in enumerate(participant[\"trajectories\"]):\n",
    "        if s > 9:\n",
    "            # 数字以外は省略\n",
    "            break\n",
    "        for i, _instance in enumerate(symbol):\n",
    "            \n",
    "            instance = _instance[:participant[\"lengths\"][s, i]]\n",
    "            images, actions, rewards, dones = get_image_sequence(instance, size=64, line_width=3)\n",
    "            dataset = dict()\n",
    "            dataset[\"image_bin\"] = images\n",
    "            dataset[\"action\"] = actions\n",
    "            dataset[\"reward\"] = rewards\n",
    "            dataset[\"done\"] = dones\n",
    "            \n",
    "            break\n",
    "        break"
   ]
  },
  {
   "cell_type": "code",
   "execution_count": 9,
   "metadata": {},
   "outputs": [
    {
     "data": {
      "text/plain": [
       "<matplotlib.image.AxesImage at 0x7fbb879ca070>"
      ]
     },
     "execution_count": 9,
     "metadata": {},
     "output_type": "execute_result"
    },
    {
     "data": {
      "image/png": "[encoded data removed]",
      "text/plain": [
       "<Figure size 640x480 with 1 Axes>"
      ]
     },
     "metadata": {},
     "output_type": "display_data"
    }
   ],
   "source": [
    "plt.imshow(dataset[\"image_bin\"][-1,0], cmap=\"gray\")"
   ]
  },
  {
   "cell_type": "code",
   "execution_count": null,
   "metadata": {},
   "outputs": [],
   "source": []
  }
 ],
 "metadata": {
  "kernelspec": {
   "display_name": "Python 3.8.0 64-bit ('3.8.0')",
   "language": "python",
   "name": "python3"
  },
  "language_info": {
   "codemirror_mode": {
    "name": "ipython",
    "version": 3
   },
   "file_extension": ".py",
   "mimetype": "text/x-python",
   "name": "python",
   "nbconvert_exporter": "python",
   "pygments_lexer": "ipython3",
   "version": "3.8.0"
  },
  "orig_nbformat": 4,
  "vscode": {
   "interpreter": {
    "hash": "f50c9da5724cd01c04a3aca0f3896e3851b73cd94c2c5c49a537cab63627c5d4"
   }
  }
 },
 "nbformat": 4,
 "nbformat_minor": 2
}
